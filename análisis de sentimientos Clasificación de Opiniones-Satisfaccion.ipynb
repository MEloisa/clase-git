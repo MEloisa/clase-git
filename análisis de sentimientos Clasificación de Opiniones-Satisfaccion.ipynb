{
 "cells": [
  {
   "cell_type": "markdown",
   "metadata": {},
   "source": [
    "# Análisis de sentimientos con opiniones de productos - NPS"
   ]
  },
  {
   "cell_type": "markdown",
   "metadata": {},
   "source": [
    "La valoración numérica que da un usuario da a un producto es el indicador de si la valoración de texto es positiva, negativa o neutra.\n",
    "\n",
    "Nos encontramos antes un Problema de clasificación: \n",
    "\n",
    "Si una opinión tiene una valoración de 0 a 6 la consideraremos negativa, si es 7 u 8 la consideraremos neutra y 9 o 10 la consideraremos positiva, basada en una categorización del indicador NPS de satisfacción al cliente.\n",
    "\n",
    "Tambien podriamos partir de un historico de valoraciones de texto de la empresa que ya tengamos clasificado previamente."
   ]
  },
  {
   "cell_type": "code",
   "execution_count": 1,
   "metadata": {},
   "outputs": [],
   "source": [
    "import numpy as np\n",
    "import pandas as pd"
   ]
  },
  {
   "cell_type": "code",
   "execution_count": 3,
   "metadata": {},
   "outputs": [],
   "source": [
    "# Convierto los datos del fichero CSV a un dataframe\n",
    "df = pd.read_csv(\"OpinionesProductos.csv\", sep=';')"
   ]
  },
  {
   "cell_type": "code",
   "execution_count": 4,
   "metadata": {},
   "outputs": [
    {
     "data": {
      "text/plain": [
       "(702446, 2)"
      ]
     },
     "execution_count": 4,
     "metadata": {},
     "output_type": "execute_result"
    }
   ],
   "source": [
    "#Analizo mis datos del dataframe de forma previa\n",
    "df.shape"
   ]
  },
  {
   "cell_type": "code",
   "execution_count": 5,
   "metadata": {},
   "outputs": [
    {
     "data": {
      "text/html": [
       "<div>\n",
       "<style scoped>\n",
       "    .dataframe tbody tr th:only-of-type {\n",
       "        vertical-align: middle;\n",
       "    }\n",
       "\n",
       "    .dataframe tbody tr th {\n",
       "        vertical-align: top;\n",
       "    }\n",
       "\n",
       "    .dataframe thead th {\n",
       "        text-align: right;\n",
       "    }\n",
       "</style>\n",
       "<table border=\"1\" class=\"dataframe\">\n",
       "  <thead>\n",
       "    <tr style=\"text-align: right;\">\n",
       "      <th></th>\n",
       "      <th>comentario</th>\n",
       "      <th>valoracion</th>\n",
       "    </tr>\n",
       "  </thead>\n",
       "  <tbody>\n",
       "    <tr>\n",
       "      <th>0</th>\n",
       "      <td>Para chicas es perfecto, ya que la esfera no e...</td>\n",
       "      <td>8.0</td>\n",
       "    </tr>\n",
       "    <tr>\n",
       "      <th>1</th>\n",
       "      <td>Muy floja la cuerda y el anclaje es de mala ca...</td>\n",
       "      <td>1.0</td>\n",
       "    </tr>\n",
       "    <tr>\n",
       "      <th>2</th>\n",
       "      <td>Razonablemente bien escrito, bien ambientado, ...</td>\n",
       "      <td>6.0</td>\n",
       "    </tr>\n",
       "    <tr>\n",
       "      <th>3</th>\n",
       "      <td>Hola! No suel o escribir muchas opiniones sobr...</td>\n",
       "      <td>10.0</td>\n",
       "    </tr>\n",
       "    <tr>\n",
       "      <th>4</th>\n",
       "      <td>A simple vista m parecia una buena camara pero...</td>\n",
       "      <td>1.0</td>\n",
       "    </tr>\n",
       "  </tbody>\n",
       "</table>\n",
       "</div>"
      ],
      "text/plain": [
       "                                          comentario  valoracion\n",
       "0  Para chicas es perfecto, ya que la esfera no e...         8.0\n",
       "1  Muy floja la cuerda y el anclaje es de mala ca...         1.0\n",
       "2  Razonablemente bien escrito, bien ambientado, ...         6.0\n",
       "3  Hola! No suel o escribir muchas opiniones sobr...        10.0\n",
       "4  A simple vista m parecia una buena camara pero...         1.0"
      ]
     },
     "execution_count": 5,
     "metadata": {},
     "output_type": "execute_result"
    }
   ],
   "source": [
    "df.head()"
   ]
  },
  {
   "cell_type": "code",
   "execution_count": 6,
   "metadata": {},
   "outputs": [
    {
     "data": {
      "text/html": [
       "<div>\n",
       "<style scoped>\n",
       "    .dataframe tbody tr th:only-of-type {\n",
       "        vertical-align: middle;\n",
       "    }\n",
       "\n",
       "    .dataframe tbody tr th {\n",
       "        vertical-align: top;\n",
       "    }\n",
       "\n",
       "    .dataframe thead th {\n",
       "        text-align: right;\n",
       "    }\n",
       "</style>\n",
       "<table border=\"1\" class=\"dataframe\">\n",
       "  <thead>\n",
       "    <tr style=\"text-align: right;\">\n",
       "      <th></th>\n",
       "      <th>valoracion</th>\n",
       "    </tr>\n",
       "  </thead>\n",
       "  <tbody>\n",
       "    <tr>\n",
       "      <th>count</th>\n",
       "      <td>702446.000000</td>\n",
       "    </tr>\n",
       "    <tr>\n",
       "      <th>mean</th>\n",
       "      <td>6.577189</td>\n",
       "    </tr>\n",
       "    <tr>\n",
       "      <th>std</th>\n",
       "      <td>3.157716</td>\n",
       "    </tr>\n",
       "    <tr>\n",
       "      <th>min</th>\n",
       "      <td>1.000000</td>\n",
       "    </tr>\n",
       "    <tr>\n",
       "      <th>25%</th>\n",
       "      <td>4.000000</td>\n",
       "    </tr>\n",
       "    <tr>\n",
       "      <th>50%</th>\n",
       "      <td>8.000000</td>\n",
       "    </tr>\n",
       "    <tr>\n",
       "      <th>75%</th>\n",
       "      <td>10.000000</td>\n",
       "    </tr>\n",
       "    <tr>\n",
       "      <th>max</th>\n",
       "      <td>10.000000</td>\n",
       "    </tr>\n",
       "  </tbody>\n",
       "</table>\n",
       "</div>"
      ],
      "text/plain": [
       "          valoracion\n",
       "count  702446.000000\n",
       "mean        6.577189\n",
       "std         3.157716\n",
       "min         1.000000\n",
       "25%         4.000000\n",
       "50%         8.000000\n",
       "75%        10.000000\n",
       "max        10.000000"
      ]
     },
     "execution_count": 6,
     "metadata": {},
     "output_type": "execute_result"
    }
   ],
   "source": [
    "df.describe()"
   ]
  },
  {
   "cell_type": "code",
   "execution_count": 7,
   "metadata": {},
   "outputs": [
    {
     "name": "stdout",
     "output_type": "stream",
     "text": [
      "<class 'pandas.core.frame.DataFrame'>\n",
      "RangeIndex: 702446 entries, 0 to 702445\n",
      "Data columns (total 2 columns):\n",
      "comentario    702446 non-null object\n",
      "valoracion    702446 non-null float64\n",
      "dtypes: float64(1), object(1)\n",
      "memory usage: 10.7+ MB\n"
     ]
    }
   ],
   "source": [
    "df.info()"
   ]
  },
  {
   "cell_type": "code",
   "execution_count": 8,
   "metadata": {},
   "outputs": [],
   "source": [
    "#Division de las frases en palabras quitando stopwords\n",
    "import re\n",
    "import nltk\n",
    "from nltk.tokenize import word_tokenize\n",
    "from nltk.corpus import stopwords"
   ]
  },
  {
   "cell_type": "code",
   "execution_count": 9,
   "metadata": {},
   "outputs": [
    {
     "data": {
      "text/plain": [
       "(702446, 2)"
      ]
     },
     "execution_count": 9,
     "metadata": {},
     "output_type": "execute_result"
    }
   ],
   "source": [
    "df.shape"
   ]
  },
  {
   "cell_type": "code",
   "execution_count": 10,
   "metadata": {},
   "outputs": [
    {
     "data": {
      "image/png": "[encoded data removed]",
      "text/plain": [
       "<Figure size 864x648 with 1 Axes>"
      ]
     },
     "metadata": {
      "needs_background": "light"
     },
     "output_type": "display_data"
    }
   ],
   "source": [
    "%matplotlib inline\n",
    "import matplotlib\n",
    "import matplotlib.pyplot as plt\n",
    "df.hist(bins=50, figsize=(12,9))\n",
    "plt.show()"
   ]
  },
  {
   "cell_type": "code",
   "execution_count": 11,
   "metadata": {
    "scrolled": true
   },
   "outputs": [
    {
     "data": {
      "text/plain": [
       "<matplotlib.axes._subplots.AxesSubplot at 0x2ab84a6aa58>"
      ]
     },
     "execution_count": 11,
     "metadata": {},
     "output_type": "execute_result"
    },
    {
     "data": {
      "image/png": "[encoded data removed]",
      "text/plain": [
       "<Figure size 1008x648 with 1 Axes>"
      ]
     },
     "metadata": {
      "needs_background": "light"
     },
     "output_type": "display_data"
    }
   ],
   "source": [
    "df.plot(kind=\"box\", figsize=(14,9))"
   ]
  },
  {
   "cell_type": "code",
   "execution_count": 12,
   "metadata": {},
   "outputs": [],
   "source": [
    "#Creamos una lista con los valores para la nueva variable valoracion positiva,negativa o neutra (basado en una categoriizacion de NPS)\n",
    "\n",
    "nuevas_variables_valoracion = []\n",
    "\n",
    "for fila in df[\"valoracion\"]:\n",
    "    if (fila >= 0 and fila <= 6):\n",
    "        nuevas_variables_valoracion.append(\"negativa\")\n",
    "    elif (fila >= 7 and fila <= 8):        \n",
    "        nuevas_variables_valoracion.append(\"neutra\")\n",
    "    else:\n",
    "        nuevas_variables_valoracion.append(\"positiva\")\n"
   ]
  },
  {
   "cell_type": "code",
   "execution_count": 13,
   "metadata": {},
   "outputs": [
    {
     "data": {
      "text/plain": [
       "702446"
      ]
     },
     "execution_count": 13,
     "metadata": {},
     "output_type": "execute_result"
    }
   ],
   "source": [
    "len(nuevas_variables_valoracion)"
   ]
  },
  {
   "cell_type": "code",
   "execution_count": 14,
   "metadata": {},
   "outputs": [],
   "source": [
    "df[\"NuevaValoracion\"] = nuevas_variables_valoracion"
   ]
  },
  {
   "cell_type": "code",
   "execution_count": 15,
   "metadata": {},
   "outputs": [
    {
     "data": {
      "text/html": [
       "<div>\n",
       "<style scoped>\n",
       "    .dataframe tbody tr th:only-of-type {\n",
       "        vertical-align: middle;\n",
       "    }\n",
       "\n",
       "    .dataframe tbody tr th {\n",
       "        vertical-align: top;\n",
       "    }\n",
       "\n",
       "    .dataframe thead th {\n",
       "        text-align: right;\n",
       "    }\n",
       "</style>\n",
       "<table border=\"1\" class=\"dataframe\">\n",
       "  <thead>\n",
       "    <tr style=\"text-align: right;\">\n",
       "      <th></th>\n",
       "      <th>comentario</th>\n",
       "      <th>valoracion</th>\n",
       "      <th>NuevaValoracion</th>\n",
       "    </tr>\n",
       "  </thead>\n",
       "  <tbody>\n",
       "    <tr>\n",
       "      <th>0</th>\n",
       "      <td>Para chicas es perfecto, ya que la esfera no e...</td>\n",
       "      <td>8.0</td>\n",
       "      <td>neutra</td>\n",
       "    </tr>\n",
       "    <tr>\n",
       "      <th>1</th>\n",
       "      <td>Muy floja la cuerda y el anclaje es de mala ca...</td>\n",
       "      <td>1.0</td>\n",
       "      <td>negativa</td>\n",
       "    </tr>\n",
       "    <tr>\n",
       "      <th>2</th>\n",
       "      <td>Razonablemente bien escrito, bien ambientado, ...</td>\n",
       "      <td>6.0</td>\n",
       "      <td>negativa</td>\n",
       "    </tr>\n",
       "    <tr>\n",
       "      <th>3</th>\n",
       "      <td>Hola! No suel o escribir muchas opiniones sobr...</td>\n",
       "      <td>10.0</td>\n",
       "      <td>positiva</td>\n",
       "    </tr>\n",
       "    <tr>\n",
       "      <th>4</th>\n",
       "      <td>A simple vista m parecia una buena camara pero...</td>\n",
       "      <td>1.0</td>\n",
       "      <td>negativa</td>\n",
       "    </tr>\n",
       "  </tbody>\n",
       "</table>\n",
       "</div>"
      ],
      "text/plain": [
       "                                          comentario  valoracion  \\\n",
       "0  Para chicas es perfecto, ya que la esfera no e...         8.0   \n",
       "1  Muy floja la cuerda y el anclaje es de mala ca...         1.0   \n",
       "2  Razonablemente bien escrito, bien ambientado, ...         6.0   \n",
       "3  Hola! No suel o escribir muchas opiniones sobr...        10.0   \n",
       "4  A simple vista m parecia una buena camara pero...         1.0   \n",
       "\n",
       "  NuevaValoracion  \n",
       "0          neutra  \n",
       "1        negativa  \n",
       "2        negativa  \n",
       "3        positiva  \n",
       "4        negativa  "
      ]
     },
     "execution_count": 15,
     "metadata": {},
     "output_type": "execute_result"
    }
   ],
   "source": [
    "df.head()"
   ]
  },
  {
   "cell_type": "code",
   "execution_count": 16,
   "metadata": {},
   "outputs": [
    {
     "data": {
      "text/plain": [
       "LabelEncoder()"
      ]
     },
     "execution_count": 16,
     "metadata": {},
     "output_type": "execute_result"
    }
   ],
   "source": [
    "from sklearn.preprocessing import LabelEncoder\n",
    "\n",
    "lencoder = LabelEncoder()\n",
    "\n",
    "lencoder.fit(df[\"NuevaValoracion\"])"
   ]
  },
  {
   "cell_type": "code",
   "execution_count": 17,
   "metadata": {},
   "outputs": [],
   "source": [
    "df[\"clase\"] = lencoder.transform(df[\"NuevaValoracion\"])"
   ]
  },
  {
   "cell_type": "code",
   "execution_count": 18,
   "metadata": {
    "scrolled": true
   },
   "outputs": [
    {
     "data": {
      "text/html": [
       "<div>\n",
       "<style scoped>\n",
       "    .dataframe tbody tr th:only-of-type {\n",
       "        vertical-align: middle;\n",
       "    }\n",
       "\n",
       "    .dataframe tbody tr th {\n",
       "        vertical-align: top;\n",
       "    }\n",
       "\n",
       "    .dataframe thead th {\n",
       "        text-align: right;\n",
       "    }\n",
       "</style>\n",
       "<table border=\"1\" class=\"dataframe\">\n",
       "  <thead>\n",
       "    <tr style=\"text-align: right;\">\n",
       "      <th></th>\n",
       "      <th>comentario</th>\n",
       "      <th>valoracion</th>\n",
       "      <th>NuevaValoracion</th>\n",
       "      <th>clase</th>\n",
       "    </tr>\n",
       "  </thead>\n",
       "  <tbody>\n",
       "    <tr>\n",
       "      <th>0</th>\n",
       "      <td>Para chicas es perfecto, ya que la esfera no e...</td>\n",
       "      <td>8.0</td>\n",
       "      <td>neutra</td>\n",
       "      <td>1</td>\n",
       "    </tr>\n",
       "    <tr>\n",
       "      <th>1</th>\n",
       "      <td>Muy floja la cuerda y el anclaje es de mala ca...</td>\n",
       "      <td>1.0</td>\n",
       "      <td>negativa</td>\n",
       "      <td>0</td>\n",
       "    </tr>\n",
       "    <tr>\n",
       "      <th>2</th>\n",
       "      <td>Razonablemente bien escrito, bien ambientado, ...</td>\n",
       "      <td>6.0</td>\n",
       "      <td>negativa</td>\n",
       "      <td>0</td>\n",
       "    </tr>\n",
       "    <tr>\n",
       "      <th>3</th>\n",
       "      <td>Hola! No suel o escribir muchas opiniones sobr...</td>\n",
       "      <td>10.0</td>\n",
       "      <td>positiva</td>\n",
       "      <td>2</td>\n",
       "    </tr>\n",
       "    <tr>\n",
       "      <th>4</th>\n",
       "      <td>A simple vista m parecia una buena camara pero...</td>\n",
       "      <td>1.0</td>\n",
       "      <td>negativa</td>\n",
       "      <td>0</td>\n",
       "    </tr>\n",
       "  </tbody>\n",
       "</table>\n",
       "</div>"
      ],
      "text/plain": [
       "                                          comentario  valoracion  \\\n",
       "0  Para chicas es perfecto, ya que la esfera no e...         8.0   \n",
       "1  Muy floja la cuerda y el anclaje es de mala ca...         1.0   \n",
       "2  Razonablemente bien escrito, bien ambientado, ...         6.0   \n",
       "3  Hola! No suel o escribir muchas opiniones sobr...        10.0   \n",
       "4  A simple vista m parecia una buena camara pero...         1.0   \n",
       "\n",
       "  NuevaValoracion  clase  \n",
       "0          neutra      1  \n",
       "1        negativa      0  \n",
       "2        negativa      0  \n",
       "3        positiva      2  \n",
       "4        negativa      0  "
      ]
     },
     "execution_count": 18,
     "metadata": {},
     "output_type": "execute_result"
    }
   ],
   "source": [
    "df.head()"
   ]
  },
  {
   "cell_type": "code",
   "execution_count": 19,
   "metadata": {},
   "outputs": [],
   "source": [
    "#Me aseguro que no haya duplicados\n",
    "df.drop_duplicates(inplace=True)"
   ]
  },
  {
   "cell_type": "code",
   "execution_count": 20,
   "metadata": {},
   "outputs": [
    {
     "data": {
      "text/plain": [
       "(702446, 4)"
      ]
     },
     "execution_count": 20,
     "metadata": {},
     "output_type": "execute_result"
    }
   ],
   "source": [
    "df.shape"
   ]
  },
  {
   "cell_type": "code",
   "execution_count": 21,
   "metadata": {},
   "outputs": [],
   "source": [
    "#Dejamos solo las variables del dataframe necesarias\n",
    "\n",
    "del df[\"valoracion\"]\n",
    "del df[\"NuevaValoracion\"]"
   ]
  },
  {
   "cell_type": "code",
   "execution_count": 22,
   "metadata": {},
   "outputs": [
    {
     "data": {
      "text/html": [
       "<div>\n",
       "<style scoped>\n",
       "    .dataframe tbody tr th:only-of-type {\n",
       "        vertical-align: middle;\n",
       "    }\n",
       "\n",
       "    .dataframe tbody tr th {\n",
       "        vertical-align: top;\n",
       "    }\n",
       "\n",
       "    .dataframe thead th {\n",
       "        text-align: right;\n",
       "    }\n",
       "</style>\n",
       "<table border=\"1\" class=\"dataframe\">\n",
       "  <thead>\n",
       "    <tr style=\"text-align: right;\">\n",
       "      <th></th>\n",
       "      <th>comentario</th>\n",
       "      <th>clase</th>\n",
       "    </tr>\n",
       "  </thead>\n",
       "  <tbody>\n",
       "    <tr>\n",
       "      <th>0</th>\n",
       "      <td>Para chicas es perfecto, ya que la esfera no e...</td>\n",
       "      <td>1</td>\n",
       "    </tr>\n",
       "    <tr>\n",
       "      <th>1</th>\n",
       "      <td>Muy floja la cuerda y el anclaje es de mala ca...</td>\n",
       "      <td>0</td>\n",
       "    </tr>\n",
       "    <tr>\n",
       "      <th>2</th>\n",
       "      <td>Razonablemente bien escrito, bien ambientado, ...</td>\n",
       "      <td>0</td>\n",
       "    </tr>\n",
       "    <tr>\n",
       "      <th>3</th>\n",
       "      <td>Hola! No suel o escribir muchas opiniones sobr...</td>\n",
       "      <td>2</td>\n",
       "    </tr>\n",
       "    <tr>\n",
       "      <th>4</th>\n",
       "      <td>A simple vista m parecia una buena camara pero...</td>\n",
       "      <td>0</td>\n",
       "    </tr>\n",
       "  </tbody>\n",
       "</table>\n",
       "</div>"
      ],
      "text/plain": [
       "                                          comentario  clase\n",
       "0  Para chicas es perfecto, ya que la esfera no e...      1\n",
       "1  Muy floja la cuerda y el anclaje es de mala ca...      0\n",
       "2  Razonablemente bien escrito, bien ambientado, ...      0\n",
       "3  Hola! No suel o escribir muchas opiniones sobr...      2\n",
       "4  A simple vista m parecia una buena camara pero...      0"
      ]
     },
     "execution_count": 22,
     "metadata": {},
     "output_type": "execute_result"
    }
   ],
   "source": [
    "df.head()"
   ]
  },
  {
   "cell_type": "code",
   "execution_count": 24,
   "metadata": {},
   "outputs": [],
   "source": [
    "from sklearn.model_selection import train_test_split"
   ]
  },
  {
   "cell_type": "code",
   "execution_count": 26,
   "metadata": {},
   "outputs": [],
   "source": [
    "# Hacemos el split de los datos en Train y Test:\n",
    "train, test = train_test_split(df,\n",
    "                               train_size=0.75,\n",
    "                               test_size=0.25)"
   ]
  },
  {
   "cell_type": "code",
   "execution_count": 27,
   "metadata": {},
   "outputs": [],
   "source": [
    "#Grid search para probar diferentes algoritmos y parametros y poder elegir el de mejor rendimiento"
   ]
  },
  {
   "cell_type": "code",
   "execution_count": 28,
   "metadata": {},
   "outputs": [],
   "source": [
    "# Generamos nuestro tokenizer con NLTK:\n",
    "\n",
    "from nltk.tokenize import RegexpTokenizer\n",
    "\n",
    "nuestro_tokenizer = RegexpTokenizer(\"[\\w']+\")\n",
    "\n",
    "\n",
    "# Stemmer...\n",
    "from nltk.stem.snowball import SpanishStemmer\n",
    "\n",
    "stemmer_castellano = SpanishStemmer()\n",
    "\n",
    "\n",
    "# Función que hace la tokenization y stemming...\n",
    "def nuestro_tokenizer_y_stemmer(documento):\n",
    "    return [stemmer_castellano.stem(token) for token in nuestro_tokenizer.tokenize(documento)]\n",
    "\n",
    "\n",
    "# Stopwords...\n",
    "from nltk.corpus import stopwords\n",
    "\n",
    "stopwords_castellano = stopwords.words(\"spanish\")\n",
    "\n",
    "\n",
    "# Hashing trick:\n",
    "from sklearn.feature_extraction.text import HashingVectorizer\n",
    "\n",
    "hashing_trick = HashingVectorizer()\n",
    "\n",
    "\n",
    "# TF-IDF:\n",
    "from sklearn.feature_extraction.text import TfidfTransformer\n",
    "\n",
    "tfidf_transformer = TfidfTransformer()\n",
    "\n",
    "\n",
    "# Modelos:\n",
    "\n",
    "from sklearn.linear_model import LogisticRegression\n",
    "from sklearn.ensemble import AdaBoostClassifier, RandomForestClassifier\n",
    "from sklearn.naive_bayes import MultinomialNB\n",
    "from sklearn.svm import LinearSVC\n",
    "\n",
    "logreg = LogisticRegression()\n",
    "adaboost = AdaBoostClassifier(base_estimator=LogisticRegression(solver=\"lbfgs\"))\n",
    "rf = RandomForestClassifier()\n",
    "nb = MultinomialNB()\n",
    "svm = LinearSVC()\n",
    "\n",
    "\n",
    "# Pipelines:\n",
    "from sklearn.pipeline import Pipeline\n",
    "\n",
    "pipeline_lr = Pipeline(steps=[(\"hashing_trick\", hashing_trick),\n",
    "                              (\"tfidf\", tfidf_transformer),\n",
    "                              (\"logreg\", logreg)])\n",
    "\n",
    "pipeline_adaboost = Pipeline(steps=[(\"hashing_trick\", hashing_trick),\n",
    "                                    (\"tfidf\", tfidf_transformer),\n",
    "                                    (\"adaboost\", adaboost)])\n",
    "\n",
    "pipeline_rf = Pipeline(steps=[(\"hashing_trick\", hashing_trick),\n",
    "                              (\"tfidf\", tfidf_transformer),\n",
    "                              (\"rf\", rf)])\n",
    "\n",
    "pipeline_nb = Pipeline(steps=[(\"hashing_trick\", hashing_trick),\n",
    "                              (\"tfidf\", tfidf_transformer),\n",
    "                              (\"nb\", nb)])\n",
    "\n",
    "pipeline_svm = Pipeline(steps=[(\"hashing_trick\", hashing_trick),\n",
    "                               (\"tfidf\", tfidf_transformer),\n",
    "                               (\"svm\", svm)])\n",
    "\n",
    "\n",
    "# Grids de hiperparámetros:\n",
    "param_grid_lr = {\"hashing_trick__strip_accents\": [\"ascii\"],\n",
    "                 \"hashing_trick__analyzer\": [\"word\"],\n",
    "                 \"hashing_trick__stop_words\": [stopwords_castellano],\n",
    "                 \"hashing_trick__tokenizer\": [nuestro_tokenizer_y_stemmer], \n",
    "                 \"hashing_trick__lowercase\": [True],\n",
    "                 \"hashing_trick__norm\" : [None],\n",
    "                 \"hashing_trick__n_features\": [2**20, 2**22], # Distintas longitudes de vector\n",
    "                 \"hashing_trick__ngram_range\": [(1,1), (1,2)], # solo monogramas (estándar),\n",
    "                                                                      # monogramas y bigramas\n",
    "                 \"logreg__solver\": [\"lbfgs\"]\n",
    "                }\n",
    "\n",
    "param_grid_adaboost = {\"hashing_trick__strip_accents\": [\"ascii\"],\n",
    "                       \"hashing_trick__analyzer\": [\"word\"],\n",
    "                       \"hashing_trick__stop_words\": [stopwords_castellano],\n",
    "                       \"hashing_trick__tokenizer\": [nuestro_tokenizer_y_stemmer],\n",
    "                       \"hashing_trick__lowercase\": [True],\n",
    "                       \"hashing_trick__norm\" : [None],\n",
    "                       \"hashing_trick__n_features\": [2**20, 2**22],\n",
    "                       \"hashing_trick__ngram_range\": [(1,1), (1,2)],\n",
    "                       \"adaboost__n_estimators\": [200]\n",
    "                      }\n",
    "\n",
    "param_grid_rf = {\"hashing_trick__strip_accents\": [\"ascii\"],\n",
    "                 \"hashing_trick__analyzer\": [\"word\"],\n",
    "                 \"hashing_trick__stop_words\": [stopwords_castellano],\n",
    "                 \"hashing_trick__tokenizer\": [nuestro_tokenizer_y_stemmer],\n",
    "                 \"hashing_trick__lowercase\": [True],\n",
    "                 \"hashing_trick__norm\" : [None],\n",
    "                 \"hashing_trick__n_features\": [2**22],\n",
    "                 \"hashing_trick__ngram_range\": [(1,1), (1,2)],\n",
    "                 \"rf__n_estimators\": [100, 200],  \n",
    "                 \"rf__max_depth\": [10,20],\n",
    "                 \"rf__min_samples_split\": [5,10],\n",
    "                 \"rf__min_samples_leaf\": [5]\n",
    "                }\n",
    "\n",
    "param_grid_nb = {\"hashing_trick__strip_accents\": [\"ascii\"],\n",
    "                 \"hashing_trick__analyzer\": [\"word\"],\n",
    "                 \"hashing_trick__stop_words\": [stopwords_castellano],\n",
    "                 \"hashing_trick__tokenizer\": [nuestro_tokenizer_y_stemmer],\n",
    "                 \"hashing_trick__lowercase\": [True],\n",
    "                 \"hashing_trick__norm\" : [None],\n",
    "                 \"hashing_trick__n_features\": [2**20, 2**22],\n",
    "                 \"hashing_trick__ngram_range\": [(1,1), (1,2)],\n",
    "                 \"hashing_trick__non_negative\": [True], # Necesario para el Naïve Bayes\n",
    "                 \"tfidf__norm\": [None], # Preferible para el Naïve Bayes (debería mejorar resultados)\n",
    "                 \"nb__alpha\": [0.001, 0.5, 1.0]\n",
    "                }\n",
    "\n",
    "param_grid_svm = {\"hashing_trick__strip_accents\": [\"ascii\"],\n",
    "                  \"hashing_trick__analyzer\": [\"word\"],\n",
    "                  \"hashing_trick__stop_words\": [stopwords_castellano],\n",
    "                  \"hashing_trick__tokenizer\": [nuestro_tokenizer_y_stemmer],\n",
    "                  \"hashing_trick__lowercase\": [True],\n",
    "                  \"hashing_trick__norm\" : [None],\n",
    "                  \"hashing_trick__n_features\": [2**20, 2**22],\n",
    "                  \"hashing_trick__ngram_range\": [(1,1), (1,2)],\n",
    "                  \"tfidf__norm\": [None, \"l2\"],\n",
    "                  \"svm__penalty\": [\"l1\", \"l2\"],\n",
    "                  \"svm__dual\": [False]\n",
    "                }\n",
    "\n",
    "\n",
    "# Instancias de Grid Search:\n",
    "from sklearn.model_selection import GridSearchCV\n",
    "\n",
    "gs_logreg = GridSearchCV(estimator=pipeline_lr,\n",
    "                         param_grid=param_grid_lr,\n",
    "                         scoring=\"accuracy\",\n",
    "                         cv=2,\n",
    "                         n_jobs=-2,\n",
    "                         verbose=1)\n",
    "\n",
    "gs_adaboost = GridSearchCV(estimator=pipeline_adaboost,\n",
    "                           param_grid=param_grid_adaboost,\n",
    "                           scoring=\"accuracy\",\n",
    "                           cv=2,\n",
    "                           n_jobs=-2,\n",
    "                           verbose=1)\n",
    "\n",
    "gs_rf = GridSearchCV(estimator=pipeline_rf,\n",
    "                     param_grid=param_grid_rf,\n",
    "                     scoring=\"accuracy\",\n",
    "                     cv=2,\n",
    "                     n_jobs=-2,\n",
    "                     verbose=1)\n",
    "\n",
    "gs_nb = GridSearchCV(estimator=pipeline_nb,\n",
    "                     param_grid=param_grid_nb,\n",
    "                     scoring=\"accuracy\",\n",
    "                     cv=2,\n",
    "                     n_jobs=-2,\n",
    "                     verbose=1)\n",
    "\n",
    "gs_svm = GridSearchCV(estimator=pipeline_svm,\n",
    "                     param_grid=param_grid_svm,\n",
    "                     scoring=\"accuracy\",\n",
    "                     cv=2,\n",
    "                     n_jobs=-2,\n",
    "                     verbose=1)\n",
    "\n",
    "# Los metemos todos en un diccionario:\n",
    "\n",
    "bag_de_modelos = {\"Logistic Regression\": gs_logreg,\n",
    "                  \"Random Forests\": gs_rf,\n",
    "                  \"Adaboost\": gs_adaboost,\n",
    "                  \"Naive Bayes\": gs_nb,\n",
    "                  \"SVM Lineal\": gs_svm\n",
    "                 }"
   ]
  },
  {
   "cell_type": "code",
   "execution_count": null,
   "metadata": {},
   "outputs": [
    {
     "name": "stdout",
     "output_type": "stream",
     "text": [
      "Haciendo Grid Search de la Pipeline de Logistic Regression...\n",
      "Fitting 2 folds for each of 4 candidates, totalling 8 fits\n"
     ]
    },
    {
     "name": "stderr",
     "output_type": "stream",
     "text": [
      "[Parallel(n_jobs=-2)]: Using backend LokyBackend with 7 concurrent workers.\n"
     ]
    }
   ],
   "source": [
    "for nombre, gs in bag_de_modelos.items():\n",
    "    print(\"Haciendo Grid Search de la Pipeline de %s...\" % nombre)\n",
    "    gs.fit(X=train[\"comentario\"], y=train[\"clase\"])\n",
    "    print(\"¡Grid Search de la Pipeline de %s realizada!\" % nombre)"
   ]
  },
  {
   "cell_type": "code",
   "execution_count": null,
   "metadata": {},
   "outputs": [],
   "source": [
    "#cuál ha dado mejor ACCURACY en valizadión cruzada..."
   ]
  },
  {
   "cell_type": "code",
   "execution_count": null,
   "metadata": {},
   "outputs": [],
   "source": [
    "for nombre, pipeline in bag_de_modelos.items():\n",
    "    print(\"Accuracy en CV de la mejor Pipeline de %s:\\t%s\" % (nombre, pipeline.best_score_))\n",
    "    \n",
    "mejor_pipeline = (None, float(\"-inf\"))\n",
    "for nombre, pipeline in bag_de_modelos.items():\n",
    "    if pipeline.best_score_ > mejor_pipeline[1]:\n",
    "        mejor_pipeline = (nombre, pipeline.best_score_)\n",
    "        \n",
    "print(\"\\nLa mejor Pipeline es entonces %s, con ACCURACY de %s\" % (mejor_pipeline[0], mejor_pipeline[1]))"
   ]
  },
  {
   "cell_type": "code",
   "execution_count": null,
   "metadata": {},
   "outputs": [],
   "source": [
    "# Vamos a re-entrenar el mejor modelo ganador con todo el conjunto de train (sin validación, para entrenar con la mayor cantidad de datos posibles)"
   ]
  },
  {
   "cell_type": "code",
   "execution_count": null,
   "metadata": {},
   "outputs": [],
   "source": [
    "pipeline_elegida = bag_de_modelos[mejor_pipeline[0]].best_estimator_"
   ]
  },
  {
   "cell_type": "code",
   "execution_count": null,
   "metadata": {},
   "outputs": [],
   "source": [
    "pipeline_elegida.fit(X=train[\"comentario\"], y=train[\"clase\"])"
   ]
  },
  {
   "cell_type": "code",
   "execution_count": null,
   "metadata": {},
   "outputs": [],
   "source": [
    "Sacamos precision, recall, f1-score y accuracy en el conjunto de test:"
   ]
  },
  {
   "cell_type": "code",
   "execution_count": null,
   "metadata": {},
   "outputs": [],
   "source": [
    "from sklearn.metrics import classification_report\n",
    "\n",
    "reporte_clasif = classification_report(y_true = test[\"clase\"],\n",
    "                                       y_pred = pipeline_elegida.predict(X=test[\"comentario\"])\n",
    "                                      )\n",
    "\n",
    "print(\"Métricas de rendimiento en el conjunto de test:\")\n",
    "print(reporte_clasif)"
   ]
  },
  {
   "cell_type": "code",
   "execution_count": null,
   "metadata": {},
   "outputs": [],
   "source": [
    "from sklearn.metrics import accuracy_score\n",
    "\n",
    "accur = accuracy_score(y_true = test[\"clase\"],\n",
    "                       y_pred = pipeline_elegida.predict(X=test[\"comentario\"])\n",
    "                      )\n",
    "print(\"Accuracy en el conjunto de test: %s\" % accur)"
   ]
  },
  {
   "cell_type": "code",
   "execution_count": null,
   "metadata": {},
   "outputs": [],
   "source": [
    "#Curva ROC para el conjunto de test"
   ]
  },
  {
   "cell_type": "code",
   "execution_count": null,
   "metadata": {},
   "outputs": [],
   "source": [
    "%matplotlib inline\n",
    "import matplotlib.pyplot as plt\n",
    "from sklearn.metrics import roc_curve, roc_auc_score\n",
    "plt.style.use(\"ggplot\")\n",
    "\n",
    "roc = roc_curve(y_true = test[\"clase\"],\n",
    "                y_score = pipeline_elegida.predict(X=test[\"comentario\"]),\n",
    "                pos_label=1.0\n",
    "               )\n",
    "                \n",
    "coordenadas_fpr = roc[0]\n",
    "coordenadas_tpr = roc[1]\n",
    "                \n",
    "# Y computamos el área bajo la curva ROC\n",
    "# sobre el conjunto de testing:             \n",
    "auc = roc_auc_score(y_true = test[\"clase\"],\n",
    "                    y_score = pipeline_elegida.predict(X=test[\"comentario\"])\n",
    "                   )\n",
    "\n",
    "\n",
    "# Y dibujamos:\n",
    "plt.figure(figsize=(5,5))\n",
    "\n",
    "# Primero pintamos el random guess:\n",
    "plt.plot([0,1],[0,1], \"g--\")\n",
    "\n",
    "# Y ahora el FPR y TPR de nuestro modelo:\n",
    "plt.plot(coordenadas_fpr, coordenadas_tpr, \"b\", label=\"AUC: %s\" % auc)\n",
    "\n",
    "# Coloreamos el área bajo la curva\n",
    "plt.fill_between(coordenadas_fpr, coordenadas_tpr, alpha=0.4, color=\"yellow\")\n",
    "\n",
    "plt.title(\"Curva ROC pipeline %s (conjunto de test)\" % mejor_pipeline[0], fontsize=11)\n",
    "plt.xlabel(\"False Positive Rate\")\n",
    "plt.ylabel(\"True Positive Rate\")\n",
    "plt.legend(loc=4, fontsize=9)\n",
    "pass"
   ]
  },
  {
   "cell_type": "code",
   "execution_count": null,
   "metadata": {},
   "outputs": [],
   "source": [
    "pipeline_elegida.steps"
   ]
  },
  {
   "cell_type": "code",
   "execution_count": null,
   "metadata": {},
   "outputs": [],
   "source": []
  },
  {
   "cell_type": "code",
   "execution_count": null,
   "metadata": {},
   "outputs": [],
   "source": []
  },
  {
   "cell_type": "code",
   "execution_count": null,
   "metadata": {},
   "outputs": [],
   "source": []
  }
 ],
 "metadata": {
  "kernelspec": {
   "display_name": "Python 3",
   "language": "python",
   "name": "python3"
  },
  "language_info": {
   "codemirror_mode": {
    "name": "ipython",
    "version": 3
   },
   "file_extension": ".py",
   "mimetype": "text/x-python",
   "name": "python",
   "nbconvert_exporter": "python",
   "pygments_lexer": "ipython3",
   "version": "3.7.3"
  }
 },
 "nbformat": 4,
 "nbformat_minor": 1
}
