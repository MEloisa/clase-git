{
  "nbformat": 4,
  "nbformat_minor": 0,
  "metadata": {
    "colab": {
      "name": "TensorFlow - Google Colabs.ipynb",
      "provenance": [],
      "authorship_tag": "ABX9TyNrHePV/HFoQZK+IOOYFSNV",
      "include_colab_link": true
    },
    "kernelspec": {
      "name": "python3",
      "display_name": "Python 3"
    },
    "accelerator": "GPU"
  },
  "cells": [
    {
      "cell_type": "markdown",
      "metadata": {
        "id": "view-in-github",
        "colab_type": "text"
      },
      "source": [
        "<a href=\"https://colab.research.google.com/github/MEloisa/clase-git/blob/master/TensorFlow_Google_Colabs.ipynb\" target=\"_parent\"><img src=\"https://colab.research.google.com/assets/colab-badge.svg\" alt=\"Open In Colab\"/></a>"
      ]
    },
    {
      "cell_type": "code",
      "metadata": {
        "colab": {
          "base_uri": "https://localhost:8080/"
        },
        "id": "_XZp4teXyCag",
        "outputId": "5b1c0485-6aab-4728-c0c6-7757fa020488"
      },
      "source": [
        "!pip install numpy"
      ],
      "execution_count": 1,
      "outputs": [
        {
          "output_type": "stream",
          "text": [
            "Requirement already satisfied: numpy in /usr/local/lib/python3.7/dist-packages (1.19.5)\n"
          ],
          "name": "stdout"
        }
      ]
    },
    {
      "cell_type": "code",
      "metadata": {
        "id": "HnokN3sy6qE6"
      },
      "source": [
        ""
      ],
      "execution_count": null,
      "outputs": []
    },
    {
      "cell_type": "code",
      "metadata": {
        "colab": {
          "base_uri": "https://localhost:8080/"
        },
        "id": "vAYInwvd1VKs",
        "outputId": "af4a8722-63c0-4ffc-fc72-b43c59c10de9"
      },
      "source": [
        "!pwd\r\n",
        "!cd /\r\n",
        "!ls -l\r\n",
        "print(\"Hello\")"
      ],
      "execution_count": 1,
      "outputs": [
        {
          "output_type": "stream",
          "text": [
            "/content\n",
            "total 4\n",
            "drwxr-xr-x 1 root root 4096 Mar  5 14:37 sample_data\n",
            "Hello\n"
          ],
          "name": "stdout"
        }
      ]
    },
    {
      "cell_type": "code",
      "metadata": {
        "id": "lVcbesty11WQ"
      },
      "source": [
        "import tensorflow as tf\r\n",
        "tf.compat.v1.logging.set_verbosity(tf.compat.v1.logging.ERROR)\r\n",
        "import numpy as np\r\n"
      ],
      "execution_count": 5,
      "outputs": []
    },
    {
      "cell_type": "code",
      "metadata": {
        "colab": {
          "base_uri": "https://localhost:8080/"
        },
        "id": "W1atI1N2CdPs",
        "outputId": "55e2471f-0623-4c1a-d9e9-53c31237e358"
      },
      "source": [
        "celsius_q = np.array([-40,-10,0,8,15,22,38], dtype=float)\r\n",
        "farenheit_a = np.array([-40,14,32,46,59,72,100], dtype=float)\r\n",
        "\r\n",
        "for i,c in enumerate(celsius_q):\r\n",
        "  print(\"{} degrees Celsius = {} degrees Farenhait\".format(c, farenheit_a[i]))"
      ],
      "execution_count": 7,
      "outputs": [
        {
          "output_type": "stream",
          "text": [
            "-40.0 degrees Celsius = -40.0 degrees Farenhait\n",
            "-10.0 degrees Celsius = 14.0 degrees Farenhait\n",
            "0.0 degrees Celsius = 32.0 degrees Farenhait\n",
            "8.0 degrees Celsius = 46.0 degrees Farenhait\n",
            "15.0 degrees Celsius = 59.0 degrees Farenhait\n",
            "22.0 degrees Celsius = 72.0 degrees Farenhait\n",
            "38.0 degrees Celsius = 100.0 degrees Farenhait\n"
          ],
          "name": "stdout"
        }
      ]
    },
    {
      "cell_type": "code",
      "metadata": {
        "id": "lfJp2fAkFMlB"
      },
      "source": [
        "#Buikd a layer\r\n",
        "\r\n",
        "#input_shape number of variables of input\r\n",
        "#units, number of neurons\r\n",
        "\r\n",
        "l0 = tf.keras.layers.Dense(units=1, input_shape=[1])"
      ],
      "execution_count": 10,
      "outputs": []
    },
    {
      "cell_type": "code",
      "metadata": {
        "id": "x64_ew9iIUUR"
      },
      "source": [
        "#Asemble layers into the model\r\n",
        "\r\n",
        "model= tf.keras.Sequential([tf.keras.layers.Dense(units=1,input_shape=[1])])"
      ],
      "execution_count": 11,
      "outputs": []
    },
    {
      "cell_type": "code",
      "metadata": {
        "id": "nldY71tEKXv7"
      },
      "source": [
        "#Compile the model with loss and optimizer functions\r\n",
        "model.compile(loss='mean_squared_error',optimizer=tf.keras.optimizers.Adam(0.1))"
      ],
      "execution_count": 13,
      "outputs": []
    },
    {
      "cell_type": "code",
      "metadata": {
        "id": "5Spah1OcK3Ms"
      },
      "source": [
        ""
      ],
      "execution_count": null,
      "outputs": []
    }
  ]
}