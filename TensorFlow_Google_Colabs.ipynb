{
  "nbformat": 4,
  "nbformat_minor": 0,
  "metadata": {
    "colab": {
      "name": "TensorFlow - Google Colabs.ipynb",
      "provenance": [],
      "collapsed_sections": [],
      "authorship_tag": "ABX9TyOuYmwQEAnDm2Ib7AWbYg4r",
      "include_colab_link": true
    },
    "kernelspec": {
      "name": "python3",
      "display_name": "Python 3"
    },
    "accelerator": "GPU"
  },
  "cells": [
    {
      "cell_type": "markdown",
      "metadata": {
        "id": "view-in-github",
        "colab_type": "text"
      },
      "source": [
        "<a href=\"https://colab.research.google.com/github/MEloisa/clase-git/blob/master/TensorFlow_Google_Colabs.ipynb\" target=\"_parent\"><img src=\"https://colab.research.google.com/assets/colab-badge.svg\" alt=\"Open In Colab\"/></a>"
      ]
    },
    {
      "cell_type": "code",
      "metadata": {
        "colab": {
          "base_uri": "https://localhost:8080/"
        },
        "id": "_XZp4teXyCag",
        "outputId": "075d0430-5f87-4063-cb40-57484be7758c"
      },
      "source": [
        "!pip install numpy"
      ],
      "execution_count": 5,
      "outputs": [
        {
          "output_type": "stream",
          "text": [
            "Requirement already satisfied: numpy in /usr/local/lib/python3.7/dist-packages (1.19.5)\n"
          ],
          "name": "stdout"
        }
      ]
    },
    {
      "cell_type": "code",
      "metadata": {
        "id": "HnokN3sy6qE6"
      },
      "source": [
        "#Using TensorFlow to predict Farenheits degrees based on Celsius Degress"
      ],
      "execution_count": 6,
      "outputs": []
    },
    {
      "cell_type": "code",
      "metadata": {
        "id": "lVcbesty11WQ"
      },
      "source": [
        "import tensorflow as tf\r\n",
        "tf.compat.v1.logging.set_verbosity(tf.compat.v1.logging.ERROR)\r\n",
        "import numpy as np\r\n"
      ],
      "execution_count": 7,
      "outputs": []
    },
    {
      "cell_type": "code",
      "metadata": {
        "colab": {
          "base_uri": "https://localhost:8080/"
        },
        "id": "W1atI1N2CdPs",
        "outputId": "846e683a-aee9-4965-f75b-59f3e980c3c0"
      },
      "source": [
        "celsius_q = np.array([-40,-10,0,8,15,22,38], dtype=float)\r\n",
        "farenheit_a = np.array([-40,14,32,46,59,72,100], dtype=float)\r\n",
        "\r\n",
        "for i,c in enumerate(celsius_q):\r\n",
        "  print(\"{} degrees Celsius = {} degrees Farenhait\".format(c, farenheit_a[i]))"
      ],
      "execution_count": 8,
      "outputs": [
        {
          "output_type": "stream",
          "text": [
            "-40.0 degrees Celsius = -40.0 degrees Farenhait\n",
            "-10.0 degrees Celsius = 14.0 degrees Farenhait\n",
            "0.0 degrees Celsius = 32.0 degrees Farenhait\n",
            "8.0 degrees Celsius = 46.0 degrees Farenhait\n",
            "15.0 degrees Celsius = 59.0 degrees Farenhait\n",
            "22.0 degrees Celsius = 72.0 degrees Farenhait\n",
            "38.0 degrees Celsius = 100.0 degrees Farenhait\n"
          ],
          "name": "stdout"
        }
      ]
    },
    {
      "cell_type": "code",
      "metadata": {
        "id": "lfJp2fAkFMlB"
      },
      "source": [
        "#Buikd a layer\r\n",
        "\r\n",
        "#input_shape number of variables of input\r\n",
        "#units, number of neurons\r\n",
        "\r\n",
        "l0 = tf.keras.layers.Dense(units=1, input_shape=[1])"
      ],
      "execution_count": 9,
      "outputs": []
    },
    {
      "cell_type": "code",
      "metadata": {
        "id": "x64_ew9iIUUR"
      },
      "source": [
        "#Asemble layers into the model\r\n",
        "\r\n",
        "model= tf.keras.Sequential([tf.keras.layers.Dense(units=1,input_shape=[1])])"
      ],
      "execution_count": 10,
      "outputs": []
    },
    {
      "cell_type": "code",
      "metadata": {
        "id": "nldY71tEKXv7"
      },
      "source": [
        "#Compile the model with loss and optimizer functions\r\n",
        "#single selection: loss function mean squared error and optimizer Adam\r\n",
        "#learning rate 0.1 step size taking adjusting values in the model, Value too smaill, too may iterations to train the model, large less accuracy\r\n",
        "#common range between 0.001 and 0.1\r\n",
        "\r\n",
        "model.compile(loss='mean_squared_error',optimizer=tf.keras.optimizers.Adam(0.1))"
      ],
      "execution_count": 11,
      "outputs": []
    },
    {
      "cell_type": "code",
      "metadata": {
        "colab": {
          "base_uri": "https://localhost:8080/"
        },
        "id": "5Spah1OcK3Ms",
        "outputId": "ecd2c0b4-2f46-4121-94aa-be3002c5af2e"
      },
      "source": [
        "#Train the model\r\n",
        "\r\n",
        "history= model.fit(celsius_q,farenheit_a,epochs=500, verbose= False)\r\n",
        "print(\"Finished training the model\")"
      ],
      "execution_count": 12,
      "outputs": [
        {
          "output_type": "stream",
          "text": [
            "Finished training the model\n"
          ],
          "name": "stdout"
        }
      ]
    },
    {
      "cell_type": "code",
      "metadata": {
        "id": "n66phz0UNSdy"
      },
      "source": [
        "#Display trainning statistics\r\n",
        "\r\n",
        "# we can see how the loss of our function goes down to 0, and our model improves very quickly"
      ],
      "execution_count": 13,
      "outputs": []
    },
    {
      "cell_type": "code",
      "metadata": {
        "colab": {
          "base_uri": "https://localhost:8080/",
          "height": 299
        },
        "id": "ORm_UPu3Y97M",
        "outputId": "c71e6987-2ea4-465d-f927-062ee0ae6582"
      },
      "source": [
        "import matplotlib.pyplot as plt\r\n",
        "plt.xlabel(\"Epoch number\")\r\n",
        "plt.ylabel(\"Loss Magnitude\")\r\n",
        "plt.plot(history.history[\"loss\"])"
      ],
      "execution_count": 14,
      "outputs": [
        {
          "output_type": "execute_result",
          "data": {
            "text/plain": [
              "[<matplotlib.lines.Line2D at 0x7f1440574390>]"
            ]
          },
          "metadata": {
            "tags": []
          },
          "execution_count": 14
        },
        {
          "output_type": "display_data",
          "data": {
            "image/png": "[encoded data removed]",
            "text/plain": [
              "<Figure size 432x288 with 1 Axes>"
            ]
          },
          "metadata": {
            "tags": [],
            "needs_background": "light"
          }
        }
      ]
    },
    {
      "cell_type": "code",
      "metadata": {
        "id": "uk_qqFcTZyV7"
      },
      "source": [
        "#use the model to predicto values"
      ],
      "execution_count": 15,
      "outputs": []
    },
    {
      "cell_type": "code",
      "metadata": {
        "colab": {
          "base_uri": "https://localhost:8080/"
        },
        "id": "LgqFmWCEbTff",
        "outputId": "11904ac4-9efe-4f98-e5c4-c9cc1621d165"
      },
      "source": [
        "print(model.predict([100.0]))"
      ],
      "execution_count": 16,
      "outputs": [
        {
          "output_type": "stream",
          "text": [
            "[[211.2877]]\n"
          ],
          "name": "stdout"
        }
      ]
    },
    {
      "cell_type": "code",
      "metadata": {
        "colab": {
          "base_uri": "https://localhost:8080/"
        },
        "id": "BFJJu2YiblQm",
        "outputId": "8a6bfee3-a85f-4961-cb5d-c1fd3c0ffbf7"
      },
      "source": [
        "#looking at the layer weights\r\n",
        "\r\n",
        "print(\"These are the layer variables: {}\".format(model.get_weights()))"
      ],
      "execution_count": 17,
      "outputs": [
        {
          "output_type": "stream",
          "text": [
            "These are the layer variables: [array([[1.8273731]], dtype=float32), array([28.550385], dtype=float32)]\n"
          ],
          "name": "stdout"
        }
      ]
    },
    {
      "cell_type": "code",
      "metadata": {
        "id": "FSecNa71qwsR"
      },
      "source": [
        "# This is the real convertion from farenheits to celsius f=1.8c + 32"
      ],
      "execution_count": 18,
      "outputs": []
    },
    {
      "cell_type": "code",
      "metadata": {
        "id": "jysIE4pOwLKU"
      },
      "source": [
        "#This optimization process is called Gradient Descent. The specific algorithm used to calculate the new value of each internal variable \r\n",
        "#is specified by the optimizer parameter when calling model.compile(...). In this example we used the Adam optimizer."
      ],
      "execution_count": 19,
      "outputs": []
    },
    {
      "cell_type": "code",
      "metadata": {
        "id": "GcUiomfywMQz"
      },
      "source": [
        "#Dense Layers\r\n",
        "# 3 layers and lots more neurons\r\n",
        "#no direct mapping between them and the conversion formula"
      ],
      "execution_count": 26,
      "outputs": []
    },
    {
      "cell_type": "code",
      "metadata": {
        "colab": {
          "base_uri": "https://localhost:8080/"
        },
        "id": "GKiiUijz6lC3",
        "outputId": "aac85d66-f723-496e-ee23-c87c9bfe01f5"
      },
      "source": [
        "l0 = tf.keras.layers.Dense(units=4, input_shape=[1])\r\n",
        "l1 = tf.keras.layers.Dense(units=4, input_shape=[4])\r\n",
        "l2 = tf.keras.layers.Dense(units=1, input_shape=[1])\r\n",
        "\r\n",
        "model= tf.keras.Sequential([l0,l1,l2])\r\n",
        "\r\n",
        "model.compile(loss='mean_squared_error',optimizer=tf.keras.optimizers.Adam(0.1))\r\n",
        "\r\n",
        "model.fit(celsius_q,farenheit_a,epochs=500, verbose= False)\r\n",
        "\r\n",
        "print(\"Finished training the model\")\r\n",
        "\r\n",
        "print(model.predict([100.0]))\r\n",
        "\r\n",
        "print(\"100 degrees Celsius = {} degrees Farenhait\".format(model.predict([100.0])))\r\n",
        "print(\"These are l0 variables: {}\".format(l0.get_weights()))\r\n",
        "print(\"These are l1 variables: {}\".format(l1.get_weights()))\r\n",
        "print(\"These are l2 variables: {}\".format(l2.get_weights()))"
      ],
      "execution_count": 24,
      "outputs": [
        {
          "output_type": "stream",
          "text": [
            "Finished training the model\n",
            "[[211.74745]]\n",
            "100 degrees Celsius = [[211.74745]] degrees Farenhait\n",
            "These are l0 variables: [array([[ 0.06578811,  0.89637595, -0.11168378, -0.15394276]],\n",
            "      dtype=float32), array([-3.1724315,  3.7772567,  2.353859 , -3.3375654], dtype=float32)]\n",
            "These are l1 variables: [array([[-0.3603345 , -1.0889759 ,  0.43669727, -0.50851107],\n",
            "       [ 1.0215976 ,  0.5319082 ,  0.01794078, -0.02847721],\n",
            "       [ 0.27493808,  0.6952007 , -0.1123317 ,  0.3121332 ],\n",
            "       [-0.8617385 , -0.00946498,  0.9121211 ,  0.17876485]],\n",
            "      dtype=float32), array([ 3.5179474,  3.6535668, -2.227597 , -2.91946  ], dtype=float32)]\n",
            "These are l2 variables: [array([[ 1.5036416 ],\n",
            "       [ 0.785831  ],\n",
            "       [-0.24675623],\n",
            "       [-0.20066248]], dtype=float32), array([3.4211297], dtype=float32)]\n"
          ],
          "name": "stdout"
        }
      ]
    },
    {
      "cell_type": "code",
      "metadata": {
        "id": "eY8vMRKK7XG5"
      },
      "source": [
        ""
      ],
      "execution_count": 21,
      "outputs": []
    }
  ]
}