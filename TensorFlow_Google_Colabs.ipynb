{
  "nbformat": 4,
  "nbformat_minor": 0,
  "metadata": {
    "colab": {
      "name": "TensorFlow - Google Colabs.ipynb",
      "provenance": [],
      "collapsed_sections": [],
      "authorship_tag": "ABX9TyO+IXeZXO3rwzVfRk9hu4Qp",
      "include_colab_link": true
    },
    "kernelspec": {
      "name": "python3",
      "display_name": "Python 3"
    },
    "accelerator": "GPU"
  },
  "cells": [
    {
      "cell_type": "markdown",
      "metadata": {
        "id": "view-in-github",
        "colab_type": "text"
      },
      "source": [
        "<a href=\"https://colab.research.google.com/github/MEloisa/clase-git/blob/master/TensorFlow_Google_Colabs.ipynb\" target=\"_parent\"><img src=\"https://colab.research.google.com/assets/colab-badge.svg\" alt=\"Open In Colab\"/></a>"
      ]
    },
    {
      "cell_type": "code",
      "metadata": {
        "colab": {
          "base_uri": "https://localhost:8080/"
        },
        "id": "_XZp4teXyCag",
        "outputId": "9a350425-7a36-45bf-d663-a3e21f9b9ed1"
      },
      "source": [
        "!pip install numpy"
      ],
      "execution_count": 2,
      "outputs": [
        {
          "output_type": "stream",
          "text": [
            "Requirement already satisfied: numpy in /usr/local/lib/python3.7/dist-packages (1.19.5)\n"
          ],
          "name": "stdout"
        }
      ]
    },
    {
      "cell_type": "code",
      "metadata": {
        "id": "HnokN3sy6qE6"
      },
      "source": [
        ""
      ],
      "execution_count": 2,
      "outputs": []
    },
    {
      "cell_type": "code",
      "metadata": {
        "colab": {
          "base_uri": "https://localhost:8080/"
        },
        "id": "vAYInwvd1VKs",
        "outputId": "0b02119d-9e51-40e6-f4a1-6c4b09fcfa1c"
      },
      "source": [
        "!pwd\r\n",
        "!cd /\r\n",
        "!ls -l\r\n",
        "print(\"Hello\")"
      ],
      "execution_count": 3,
      "outputs": [
        {
          "output_type": "stream",
          "text": [
            "/content\n",
            "total 4\n",
            "drwxr-xr-x 1 root root 4096 Mar  5 14:37 sample_data\n",
            "Hello\n"
          ],
          "name": "stdout"
        }
      ]
    },
    {
      "cell_type": "code",
      "metadata": {
        "id": "lVcbesty11WQ"
      },
      "source": [
        "import tensorflow as tf\r\n",
        "tf.compat.v1.logging.set_verbosity(tf.compat.v1.logging.ERROR)\r\n",
        "import numpy as np\r\n"
      ],
      "execution_count": 4,
      "outputs": []
    },
    {
      "cell_type": "code",
      "metadata": {
        "colab": {
          "base_uri": "https://localhost:8080/"
        },
        "id": "W1atI1N2CdPs",
        "outputId": "537a0071-9149-41dc-f230-3d7816b01fc3"
      },
      "source": [
        "celsius_q = np.array([-40,-10,0,8,15,22,38], dtype=float)\r\n",
        "farenheit_a = np.array([-40,14,32,46,59,72,100], dtype=float)\r\n",
        "\r\n",
        "for i,c in enumerate(celsius_q):\r\n",
        "  print(\"{} degrees Celsius = {} degrees Farenhait\".format(c, farenheit_a[i]))"
      ],
      "execution_count": 5,
      "outputs": [
        {
          "output_type": "stream",
          "text": [
            "-40.0 degrees Celsius = -40.0 degrees Farenhait\n",
            "-10.0 degrees Celsius = 14.0 degrees Farenhait\n",
            "0.0 degrees Celsius = 32.0 degrees Farenhait\n",
            "8.0 degrees Celsius = 46.0 degrees Farenhait\n",
            "15.0 degrees Celsius = 59.0 degrees Farenhait\n",
            "22.0 degrees Celsius = 72.0 degrees Farenhait\n",
            "38.0 degrees Celsius = 100.0 degrees Farenhait\n"
          ],
          "name": "stdout"
        }
      ]
    },
    {
      "cell_type": "code",
      "metadata": {
        "id": "lfJp2fAkFMlB"
      },
      "source": [
        "#Buikd a layer\r\n",
        "\r\n",
        "#input_shape number of variables of input\r\n",
        "#units, number of neurons\r\n",
        "\r\n",
        "l0 = tf.keras.layers.Dense(units=1, input_shape=[1])"
      ],
      "execution_count": 6,
      "outputs": []
    },
    {
      "cell_type": "code",
      "metadata": {
        "id": "x64_ew9iIUUR"
      },
      "source": [
        "#Asemble layers into the model\r\n",
        "\r\n",
        "model= tf.keras.Sequential([tf.keras.layers.Dense(units=1,input_shape=[1])])"
      ],
      "execution_count": 7,
      "outputs": []
    },
    {
      "cell_type": "code",
      "metadata": {
        "id": "nldY71tEKXv7"
      },
      "source": [
        "#Compile the model with loss and optimizer functions\r\n",
        "#single selection: loss function mean squared error and optimizer Adam\r\n",
        "#learning rate 0.1 step size taking adjusting values in the model, Value too smaill, too may iterations to train the model, large less accuracy\r\n",
        "#common range between 0.001 and 0.1\r\n",
        "\r\n",
        "model.compile(loss='mean_squared_error',optimizer=tf.keras.optimizers.Adam(0.1))"
      ],
      "execution_count": 8,
      "outputs": []
    },
    {
      "cell_type": "code",
      "metadata": {
        "colab": {
          "base_uri": "https://localhost:8080/"
        },
        "id": "5Spah1OcK3Ms",
        "outputId": "950c7177-b14d-4ef0-9364-27a9895c5bc9"
      },
      "source": [
        "#Train the model\r\n",
        "\r\n",
        "history= model.fit(celsius_q,farenheit_a,epochs=500, verbose= False)\r\n",
        "print(\"Finished training the model\")"
      ],
      "execution_count": 9,
      "outputs": [
        {
          "output_type": "stream",
          "text": [
            "Finished training the model\n"
          ],
          "name": "stdout"
        }
      ]
    },
    {
      "cell_type": "code",
      "metadata": {
        "id": "n66phz0UNSdy"
      },
      "source": [
        "#Display trainning statistics\r\n",
        "\r\n",
        "# we can see how the loss of our function goes down to 0, and our model improves very quickly"
      ],
      "execution_count": 10,
      "outputs": []
    },
    {
      "cell_type": "code",
      "metadata": {
        "colab": {
          "base_uri": "https://localhost:8080/",
          "height": 296
        },
        "id": "ORm_UPu3Y97M",
        "outputId": "612b02db-c9f1-4e8e-9fd2-19a0862c5e63"
      },
      "source": [
        "import matplotlib.pyplot as plt\r\n",
        "plt.xlabel(\"Epoch number\")\r\n",
        "plt.ylabel(\"Loss Magnitude\")\r\n",
        "plt.plot(history.history[\"loss\"])"
      ],
      "execution_count": 11,
      "outputs": [
        {
          "output_type": "execute_result",
          "data": {
            "text/plain": [
              "[<matplotlib.lines.Line2D at 0x7f172e205a50>]"
            ]
          },
          "metadata": {
            "tags": []
          },
          "execution_count": 11
        },
        {
          "output_type": "display_data",
          "data": {
            "image/png": "[encoded data removed]",
            "text/plain": [
              "<Figure size 432x288 with 1 Axes>"
            ]
          },
          "metadata": {
            "tags": [],
            "needs_background": "light"
          }
        }
      ]
    },
    {
      "cell_type": "code",
      "metadata": {
        "id": "uk_qqFcTZyV7"
      },
      "source": [
        "#use the model to predicto values"
      ],
      "execution_count": 12,
      "outputs": []
    },
    {
      "cell_type": "code",
      "metadata": {
        "colab": {
          "base_uri": "https://localhost:8080/"
        },
        "id": "LgqFmWCEbTff",
        "outputId": "00244fc3-24b9-4084-8594-4b2a41f7453c"
      },
      "source": [
        "print(model.predict([100.0]))"
      ],
      "execution_count": 13,
      "outputs": [
        {
          "output_type": "stream",
          "text": [
            "[[211.2709]]\n"
          ],
          "name": "stdout"
        }
      ]
    },
    {
      "cell_type": "code",
      "metadata": {
        "colab": {
          "base_uri": "https://localhost:8080/"
        },
        "id": "BFJJu2YiblQm",
        "outputId": "c6480af8-22a4-432b-b283-6b5553d3c4a0"
      },
      "source": [
        "#looking at the layer weights\r\n",
        "\r\n",
        "print(\"These are the layer variables: {}\".format(model.get_weights()))"
      ],
      "execution_count": 18,
      "outputs": [
        {
          "output_type": "stream",
          "text": [
            "These are the layer variables: [array([[1.8299278]], dtype=float32), array([28.278122], dtype=float32)]\n"
          ],
          "name": "stdout"
        }
      ]
    },
    {
      "cell_type": "code",
      "metadata": {
        "id": "FSecNa71qwsR"
      },
      "source": [
        "# This is the real convertion from farenheits to celsius f=1.8c + 32"
      ],
      "execution_count": 19,
      "outputs": []
    },
    {
      "cell_type": "code",
      "metadata": {
        "id": "jysIE4pOwLKU"
      },
      "source": [
        "#This optimization process is called Gradient Descent. The specific algorithm used to calculate the new value of each internal variable \r\n",
        "#is specified by the optimizer parameter when calling model.compile(...). In this example we used the Adam optimizer."
      ],
      "execution_count": 21,
      "outputs": []
    },
    {
      "cell_type": "code",
      "metadata": {
        "id": "GcUiomfywMQz"
      },
      "source": [
        ""
      ],
      "execution_count": null,
      "outputs": []
    }
  ]
}